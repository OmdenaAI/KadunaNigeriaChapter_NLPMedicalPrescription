{
 "cells": [
  {
   "cell_type": "code",
   "execution_count": 1,
   "metadata": {},
   "outputs": [],
   "source": [
    "from selenium import webdriver\n",
    "from selenium.webdriver.common.by import By\n",
    "from selenium.webdriver.chrome.service import Service\n",
    "from webdriver_manager.chrome import ChromeDriverManager\n",
    "import pandas as pd\n",
    "import random\n",
    "import time"
   ]
  },
  {
   "cell_type": "code",
   "execution_count": 2,
   "metadata": {},
   "outputs": [],
   "source": [
    "# Setup Chrome Webdriver\n",
    "options = webdriver.ChromeOptions()\n",
    "options.add_argument(\"--headless\") # Run in headless mode for faster execution\n",
    "# Some websites block automated browsers. So try adding a user-agent string to make Selenium appear as a regular browser\n",
    "options.add_argument(\"user-agent=Mozilla/5.0 (Windows NT 10.0; Win64; x64) AppleWebKit/537.36 (KHTML, like Gecko) Chrome/91.0.4472.124 Safari/537.36\")\n",
    "\n",
    "driver = webdriver.Chrome(service=Service(ChromeDriverManager().install()), options=options)"
   ]
  },
  {
   "cell_type": "code",
   "execution_count": 3,
   "metadata": {},
   "outputs": [
    {
     "data": {
      "text/html": [
       "<div>\n",
       "<style scoped>\n",
       "    .dataframe tbody tr th:only-of-type {\n",
       "        vertical-align: middle;\n",
       "    }\n",
       "\n",
       "    .dataframe tbody tr th {\n",
       "        vertical-align: top;\n",
       "    }\n",
       "\n",
       "    .dataframe thead th {\n",
       "        text-align: right;\n",
       "    }\n",
       "</style>\n",
       "<table border=\"1\" class=\"dataframe\">\n",
       "  <thead>\n",
       "    <tr style=\"text-align: right;\">\n",
       "      <th></th>\n",
       "      <th>Drug Name</th>\n",
       "      <th>Drug URL</th>\n",
       "    </tr>\n",
       "  </thead>\n",
       "  <tbody>\n",
       "    <tr>\n",
       "      <th>0</th>\n",
       "      <td>1-Palmitoyl-2-oleoyl-sn-glycero-3-(phospho-rac...</td>\n",
       "      <td>https://go.drugbank.com/drugs/DB11331</td>\n",
       "    </tr>\n",
       "    <tr>\n",
       "      <th>1</th>\n",
       "      <td>1,2-Benzodiazepine</td>\n",
       "      <td>https://go.drugbank.com/drugs/DB12537</td>\n",
       "    </tr>\n",
       "    <tr>\n",
       "      <th>2</th>\n",
       "      <td>1,2-Distearoyllecithin</td>\n",
       "      <td>https://go.drugbank.com/drugs/DB14099</td>\n",
       "    </tr>\n",
       "    <tr>\n",
       "      <th>3</th>\n",
       "      <td>1,2-icosapentoyl-sn-glycero-3-phosphoserine</td>\n",
       "      <td>https://go.drugbank.com/drugs/DB14096</td>\n",
       "    </tr>\n",
       "    <tr>\n",
       "      <th>4</th>\n",
       "      <td>2-mercaptobenzothiazole</td>\n",
       "      <td>https://go.drugbank.com/drugs/DB11496</td>\n",
       "    </tr>\n",
       "  </tbody>\n",
       "</table>\n",
       "</div>"
      ],
      "text/plain": [
       "                                           Drug Name  \\\n",
       "0  1-Palmitoyl-2-oleoyl-sn-glycero-3-(phospho-rac...   \n",
       "1                                 1,2-Benzodiazepine   \n",
       "2                             1,2-Distearoyllecithin   \n",
       "3        1,2-icosapentoyl-sn-glycero-3-phosphoserine   \n",
       "4                            2-mercaptobenzothiazole   \n",
       "\n",
       "                                Drug URL  \n",
       "0  https://go.drugbank.com/drugs/DB11331  \n",
       "1  https://go.drugbank.com/drugs/DB12537  \n",
       "2  https://go.drugbank.com/drugs/DB14099  \n",
       "3  https://go.drugbank.com/drugs/DB14096  \n",
       "4  https://go.drugbank.com/drugs/DB11496  "
      ]
     },
     "execution_count": 3,
     "metadata": {},
     "output_type": "execute_result"
    }
   ],
   "source": [
    "df = pd.read_csv(\"drugbank_selenium_drugs.csv\")\n",
    "df.head()"
   ]
  },
  {
   "cell_type": "code",
   "execution_count": 4,
   "metadata": {},
   "outputs": [],
   "source": [
    "df[\"Drug Background\"] = \"\"\n",
    "df[\"Drug Indication\"] = \"\""
   ]
  },
  {
   "cell_type": "code",
   "execution_count": 5,
   "metadata": {},
   "outputs": [],
   "source": [
    "missed_urls = []"
   ]
  },
  {
   "cell_type": "code",
   "execution_count": null,
   "metadata": {},
   "outputs": [
    {
     "name": "stdout",
     "output_type": "stream",
     "text": [
      "Finished until row 50\n",
      "Finished until row 100\n"
     ]
    }
   ],
   "source": [
    "for i, row in df.iterrows():\n",
    "    url = row[\"Drug URL\"]\n",
    "    \n",
    "    driver.get(url)\n",
    "    time.sleep(2)\n",
    "\n",
    "    try:\n",
    "        background_paragraphs = driver.find_elements(By.XPATH, \"//dt[@id='background']/following-sibling::dd[1]//p\")\n",
    "        indication_paragraphs = driver.find_elements(By.XPATH, \"//dt[@id='indication']/following-sibling::dd[1]//p\")\n",
    "\n",
    "        background_text = ' '.join([para.text for para in background_paragraphs if para.text.strip()])\n",
    "        indication_text = ' '.join([para.text for para in indication_paragraphs if para.text.strip()])\n",
    "        # print(f\"Row {i} text: {background_text}\")\n",
    "        df.loc[i, 'Drug Background'] = background_text if background_text.lower().strip() != \"not available\" else \"\"\n",
    "        df.loc[i, 'Drug Indication'] = indication_text if indication_text.lower().strip() != \"not available\" else \"\"\n",
    "    except Exception as e:\n",
    "        missed_urls.append(i)\n",
    "        print(f\"Error loading {url} on row {i+1}: {e}\")\n",
    "    \n",
    "    if (i + 1) % 20 == 0:\n",
    "        print(f\"Time to sleep, finished until row {i + 1}\")\n",
    "        time.sleep(random.uniform(10,15))\n",
    "\n",
    "    if (i + 1) % 50 == 0:\n",
    "        print(f\"Finished until row {i + 1}\")\n",
    "        df.to_csv(\"drugbank_drugs_details.csv\")\n",
    "\n",
    "df.to_csv(\"drugbank_drugs_details.csv\")"
   ]
  },
  {
   "cell_type": "code",
   "execution_count": 6,
   "metadata": {},
   "outputs": [
    {
     "data": {
      "text/html": [
       "<div>\n",
       "<style scoped>\n",
       "    .dataframe tbody tr th:only-of-type {\n",
       "        vertical-align: middle;\n",
       "    }\n",
       "\n",
       "    .dataframe tbody tr th {\n",
       "        vertical-align: top;\n",
       "    }\n",
       "\n",
       "    .dataframe thead th {\n",
       "        text-align: right;\n",
       "    }\n",
       "</style>\n",
       "<table border=\"1\" class=\"dataframe\">\n",
       "  <thead>\n",
       "    <tr style=\"text-align: right;\">\n",
       "      <th></th>\n",
       "      <th>Drug Name</th>\n",
       "      <th>Drug URL</th>\n",
       "      <th>Drug Background</th>\n",
       "      <th>Drug Indication</th>\n",
       "    </tr>\n",
       "  </thead>\n",
       "  <tbody>\n",
       "    <tr>\n",
       "      <th>0</th>\n",
       "      <td>1-Palmitoyl-2-oleoyl-sn-glycero-3-(phospho-rac...</td>\n",
       "      <td>https://go.drugbank.com/drugs/DB11331</td>\n",
       "      <td>Palmitoyloleoyl-phosphatidylglycerol was a com...</td>\n",
       "      <td>Palmitoyloleoyl-phosphatidylglycerol was a com...</td>\n",
       "    </tr>\n",
       "    <tr>\n",
       "      <th>1</th>\n",
       "      <td>1,2-Benzodiazepine</td>\n",
       "      <td>https://go.drugbank.com/drugs/DB12537</td>\n",
       "      <td>Benzodiazepine is under investigation for the ...</td>\n",
       "      <td></td>\n",
       "    </tr>\n",
       "    <tr>\n",
       "      <th>2</th>\n",
       "      <td>1,2-Distearoyllecithin</td>\n",
       "      <td>https://go.drugbank.com/drugs/DB14099</td>\n",
       "      <td></td>\n",
       "      <td></td>\n",
       "    </tr>\n",
       "    <tr>\n",
       "      <th>3</th>\n",
       "      <td>1,2-icosapentoyl-sn-glycero-3-phosphoserine</td>\n",
       "      <td>https://go.drugbank.com/drugs/DB14096</td>\n",
       "      <td></td>\n",
       "      <td></td>\n",
       "    </tr>\n",
       "    <tr>\n",
       "      <th>4</th>\n",
       "      <td>2-mercaptobenzothiazole</td>\n",
       "      <td>https://go.drugbank.com/drugs/DB11496</td>\n",
       "      <td></td>\n",
       "      <td></td>\n",
       "    </tr>\n",
       "  </tbody>\n",
       "</table>\n",
       "</div>"
      ],
      "text/plain": [
       "                                           Drug Name  \\\n",
       "0  1-Palmitoyl-2-oleoyl-sn-glycero-3-(phospho-rac...   \n",
       "1                                 1,2-Benzodiazepine   \n",
       "2                             1,2-Distearoyllecithin   \n",
       "3        1,2-icosapentoyl-sn-glycero-3-phosphoserine   \n",
       "4                            2-mercaptobenzothiazole   \n",
       "\n",
       "                                Drug URL  \\\n",
       "0  https://go.drugbank.com/drugs/DB11331   \n",
       "1  https://go.drugbank.com/drugs/DB12537   \n",
       "2  https://go.drugbank.com/drugs/DB14099   \n",
       "3  https://go.drugbank.com/drugs/DB14096   \n",
       "4  https://go.drugbank.com/drugs/DB11496   \n",
       "\n",
       "                                     Drug Background  \\\n",
       "0  Palmitoyloleoyl-phosphatidylglycerol was a com...   \n",
       "1  Benzodiazepine is under investigation for the ...   \n",
       "2                                                      \n",
       "3                                                      \n",
       "4                                                      \n",
       "\n",
       "                                     Drug Indication  \n",
       "0  Palmitoyloleoyl-phosphatidylglycerol was a com...  \n",
       "1                                                     \n",
       "2                                                     \n",
       "3                                                     \n",
       "4                                                     "
      ]
     },
     "execution_count": 6,
     "metadata": {},
     "output_type": "execute_result"
    }
   ],
   "source": [
    "df.sample(5)"
   ]
  },
  {
   "cell_type": "code",
   "execution_count": 7,
   "metadata": {},
   "outputs": [
    {
     "data": {
      "text/plain": [
       "[11, 92, 132, 135]"
      ]
     },
     "execution_count": 7,
     "metadata": {},
     "output_type": "execute_result"
    }
   ],
   "source": [
    "missed_urls"
   ]
  },
  {
   "cell_type": "code",
   "execution_count": null,
   "metadata": {},
   "outputs": [
    {
     "name": "stdout",
     "output_type": "stream",
     "text": [
      "Abemaciclib is an antitumor agent and dual inhibitor of cyclin-dependent kinases 4 (CDK4) and 6 (CDK6) that are involved in the cell cycle and promotion of cancer cell growth in case of unregulated activity. On September 28, 2017, FDA granted approval of abemaciclib treatment under the market name Verzenio for the treatment of HR-positive and HER2-negative advanced or metastatic breast cancer that has progressed after unsuccessful endocrine therapy. It is either given alone in patients who has undergone endocrine therapy and chemotherapy after the metastasis of cancer, or in combination with Fulvestrant. Following oral treatment in patients with HR-positive, HER2-negative breast cancer, abemaciclib demonstrated increased progression-free survival rates and objective response rates. Abemaciclib has been used in trials studying the treatment of melanoma, lymphoma, neoplasm, solid tumor, and glioblastoma.\n",
      "Indicated in combination with fulvestrant for the treatment of women with hormone receptor (HR)-positive, human epidermal growth factor receptor 2 (HER2)-negative advanced or metastatic breast cancer with disease progression following endocrine therapy.Inidicated as monotherapy for the treatment of adult patients with HR-positive, HER2-negative advanced or metastatic breast cancer with disease progression following endocrine therapy and prior chemotherapy in the metastatic setting.\n"
     ]
    }
   ],
   "source": [
    "url = \"https://go.drugbank.com/drugs/DB12001\"\n",
    "driver.get(url)\n",
    "\n",
    "background_paragraphs = driver.find_elements(By.XPATH, \"//dt[@id='background']/following-sibling::dd[1]//p\")\n",
    "indication_paragraphs = driver.find_elements(By.XPATH, \"//dt[@id='indication']/following-sibling::dd[1]//p\")\n",
    "\n",
    "background_text = ' '.join([para.text for para in background_paragraphs if para.text.strip()])\n",
    "indication_text = ' '.join([para.text for para in indication_paragraphs if para.text.strip()])\n",
    "\n",
    "print(background_text)\n",
    "print(indication_text)\n",
    "        \n"
   ]
  },
  {
   "cell_type": "code",
   "execution_count": null,
   "metadata": {},
   "outputs": [],
   "source": []
  }
 ],
 "metadata": {
  "kernelspec": {
   "display_name": "base",
   "language": "python",
   "name": "python3"
  },
  "language_info": {
   "codemirror_mode": {
    "name": "ipython",
    "version": 3
   },
   "file_extension": ".py",
   "mimetype": "text/x-python",
   "name": "python",
   "nbconvert_exporter": "python",
   "pygments_lexer": "ipython3",
   "version": "3.10.16"
  }
 },
 "nbformat": 4,
 "nbformat_minor": 2
}
